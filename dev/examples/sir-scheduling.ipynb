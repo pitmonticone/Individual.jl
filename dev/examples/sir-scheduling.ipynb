{
 "cells": [
  {
   "cell_type": "markdown",
   "source": [
    "# SIR example with event scheduling\n",
    "Sean L. Wu (@slwu89), 2021-1-9"
   ],
   "metadata": {}
  },
  {
   "outputs": [],
   "cell_type": "code",
   "source": [
    "using individual.sampling\n",
    "using individual.schema_events\n",
    "\n",
    "using Catlab.Present, Catlab.CSetDataStructures, Catlab.Theories, Catlab.CategoricalAlgebra, Catlab.Graphics, Catlab.Graphs\n",
    "using Plots, GraphViz"
   ],
   "metadata": {},
   "execution_count": 1
  }
 ],
 "nbformat_minor": 3,
 "metadata": {
  "language_info": {
   "file_extension": ".jl",
   "mimetype": "application/julia",
   "name": "julia",
   "version": "1.7.1"
  },
  "kernelspec": {
   "name": "julia-1.7",
   "display_name": "Julia 1.7.1",
   "language": "julia"
  }
 },
 "nbformat": 4
}
